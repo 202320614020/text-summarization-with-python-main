{
 "cells": [
  {
   "cell_type": "code",
   "execution_count": 6,
   "id": "7f549cb6-d042-486a-a688-fd06025d55d5",
   "metadata": {},
   "outputs": [
    {
     "name": "stderr",
     "output_type": "stream",
     "text": [
      "[nltk_data] Downloading package punkt to\n",
      "[nltk_data]     C:\\Users\\EXCALIBUR\\AppData\\Roaming\\nltk_data...\n",
      "[nltk_data]   Package punkt is already up-to-date!\n",
      "[nltk_data] Downloading package stopwords to\n",
      "[nltk_data]     C:\\Users\\EXCALIBUR\\AppData\\Roaming\\nltk_data...\n",
      "[nltk_data]   Package stopwords is already up-to-date!\n"
     ]
    },
    {
     "name": "stdout",
     "output_type": "stream",
     "text": [
      "Özet: Yazılan kaynak kodu genellikle bir derleyici ve bağlayıcı yardımıyla belirli bir sistemde çalıştırılabilir hale getirilir. Bir program yazmak veya bir problemi çözmek için öncelikle komutları unutmak ve çözümü gerçek hayatta yapıyormuş gibi düşünmek gerekir. Bu programlama dili Java ve C# gibi yüksek seviyede bir dil olabileceği gibi C, assembly ve bazı durumlarda makine dili de olabilir. Ayrıca kaynak kodu, bir yorumlayıcı yardımıyla derlemeye gerek duyulmadan satır satır çalıştırılabilir. Diğer bir tanımla programlama, bilgisayar programlarının yazılması, test edilmesi ve bakımının yapılması sürecine verilen isimdir. Programlama ya da diğer adı ile yazılımlama (İngilizce: programming), bilgisayarın donanıma nasıl davranacağını anlatan, bilgisayara yön veren komutlar, kelimeler, aritmetik işlemlerdir. Programlama, bir programlama dilinde yapılır.\n"
     ]
    }
   ],
   "source": [
    "import bs4 as bs  # BeautifulSoup kütüphanesini içe aktarıyoruz\n",
    "import urllib.request  # Web sayfası içeriğini almak için kullanılır\n",
    "import re  # Düzenli ifadeler ile metin işleme işlemleri için kullanılır\n",
    "import nltk  # Doğal dil işleme için kullanılan bir kütüphane\n",
    "import heapq  # En yüksek puanlı cümleleri seçmek için kullanılır\n",
    "\n",
    "# Gerekli NLTK veri dosyalarını indiriyoruz\n",
    "nltk.download('punkt')\n",
    "nltk.download('stopwords')\n",
    "\n",
    "# Wikipedia'dan belirli bir makaleyi çekiyoruz\n",
    "url = 'https://tr.wikipedia.org/wiki/Programlama'\n",
    "scraped_data = urllib.request.urlopen(url)\n",
    "article = scraped_data.read()\n",
    "\n",
    "# Makale içeriğini BeautifulSoup ile ayrıştırıyoruz\n",
    "parsed_article = bs.BeautifulSoup(article, 'lxml')\n",
    "\n",
    "# Tüm paragraf (<p>) etiketlerini alıyoruz\n",
    "paragraphs = parsed_article.find_all('p')\n",
    "\n",
    "# Makale metnini oluşturuyoruz\n",
    "article_text = \" \".join(p.text for p in paragraphs)\n",
    "\n",
    "# Kare parantez içindeki referans numaralarını ve ekstra boşlukları kaldırıyoruz\n",
    "article_text = re.sub(r'\\[[0-9]*\\]', ' ', article_text)\n",
    "article_text = re.sub(r'\\s+', ' ', article_text)\n",
    "\n",
    "# Özel karakterleri ve sayıları kaldırıyoruz, sadece harfler kalıyor\n",
    "formatted_article_text = re.sub('[^a-zA-ZğüşıöçĞÜŞİÖÇ ]', ' ', article_text)\n",
    "formatted_article_text = re.sub(r'\\s+', ' ', formatted_article_text)\n",
    "\n",
    "# Metni cümlelere ayırıyoruz\n",
    "sentence_list = nltk.sent_tokenize(article_text)\n",
    "\n",
    "# Kelimelerin ağırlıklı frekansını buluyoruz\n",
    "stopwords = set(nltk.corpus.stopwords.words('turkish'))  # Türkçe stopword'leri alıyoruz\n",
    "\n",
    "word_frequencies = {}  # Kelime sıklıklarını saklamak için boş bir sözlük\n",
    "for word in nltk.word_tokenize(formatted_article_text.lower()):\n",
    "    if word not in stopwords:  # Eğer kelime stopword değilse\n",
    "        word_frequencies[word] = word_frequencies.get(word, 0) + 1\n",
    "\n",
    "# En yüksek frekansa sahip kelimeyi belirleyerek tüm frekansları normalleştiriyoruz\n",
    "maximum_frequency = max(word_frequencies.values(), default=1)\n",
    "for word in word_frequencies:\n",
    "    word_frequencies[word] /= maximum_frequency\n",
    "\n",
    "# Cümlelere puan veriyoruz\n",
    "sentence_scores = {}\n",
    "for sent in sentence_list:\n",
    "    sentence_words = nltk.word_tokenize(sent.lower())\n",
    "    sentence_scores[sent] = sum(word_frequencies.get(word, 0) for word in sentence_words if len(sent.split()) < 30)\n",
    "\n",
    "# En yüksek puanlı 7 cümleyi seçerek özet oluşturuyoruz\n",
    "summary_sentences = heapq.nlargest(7, sentence_scores, key=sentence_scores.get)\n",
    "summary = ' '.join(summary_sentences)\n",
    "\n",
    "# Özetlenen metni ekrana yazdırıyoruz\n",
    "print(\"Özet:\", summary)\n"
   ]
  },
  {
   "cell_type": "code",
   "execution_count": null,
   "id": "2c26a2d9-f09a-462f-9e77-a704e17cc7dc",
   "metadata": {},
   "outputs": [],
   "source": []
  }
 ],
 "metadata": {
  "kernelspec": {
   "display_name": "Python 3 (ipykernel)",
   "language": "python",
   "name": "python3"
  },
  "language_info": {
   "codemirror_mode": {
    "name": "ipython",
    "version": 3
   },
   "file_extension": ".py",
   "mimetype": "text/x-python",
   "name": "python",
   "nbconvert_exporter": "python",
   "pygments_lexer": "ipython3",
   "version": "3.12.4"
  }
 },
 "nbformat": 4,
 "nbformat_minor": 5
}
